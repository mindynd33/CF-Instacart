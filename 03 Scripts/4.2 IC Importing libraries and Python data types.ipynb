{
 "cells": [
  {
   "cell_type": "markdown",
   "id": "950bdd36",
   "metadata": {},
   "source": [
    "# 01. Importing libraries"
   ]
  },
  {
   "cell_type": "code",
   "execution_count": null,
   "id": "48e77f3a",
   "metadata": {},
   "outputs": [],
   "source": [
    "# Import libraries\n",
    "import pandas as pd\n",
    "import numpy as np\n",
    "import os"
   ]
  },
  {
   "cell_type": "markdown",
   "id": "61726c49",
   "metadata": {},
   "source": [
    "# 02. Working with Data Types"
   ]
  },
  {
   "cell_type": "code",
   "execution_count": null,
   "id": "6e53e081",
   "metadata": {},
   "outputs": [],
   "source": [
    "x=20"
   ]
  },
  {
   "cell_type": "code",
   "execution_count": null,
   "id": "f62205cc",
   "metadata": {},
   "outputs": [],
   "source": [
    "y=80\n",
    "x+y"
   ]
  },
  {
   "cell_type": "code",
   "execution_count": null,
   "id": "28ac905b",
   "metadata": {},
   "outputs": [],
   "source": [
    "a=400\n",
    "b=300\n",
    "a-b"
   ]
  },
  {
   "cell_type": "code",
   "execution_count": null,
   "id": "ef526914",
   "metadata": {},
   "outputs": [],
   "source": [
    "b-(x+y)*2"
   ]
  },
  {
   "cell_type": "code",
   "execution_count": null,
   "id": "266fd6f8",
   "metadata": {},
   "outputs": [],
   "source": [
    "c = 6.18\n",
    "d = 9.74\n",
    "c/d"
   ]
  },
  {
   "cell_type": "code",
   "execution_count": null,
   "id": "2c280f4c",
   "metadata": {},
   "outputs": [],
   "source": [
    "p = 'fish'\n",
    "u = 'bowl'\n",
    "p + u"
   ]
  },
  {
   "cell_type": "code",
   "execution_count": null,
   "id": "8a3e697a",
   "metadata": {},
   "outputs": [],
   "source": [
    "t = 'Good '\n",
    "m = 'boy, '\n",
    "n = 'Spot'\n",
    "t + m + n"
   ]
  },
  {
   "cell_type": "code",
   "execution_count": null,
   "id": "42ee08a8",
   "metadata": {},
   "outputs": [],
   "source": [
    "h = 'Great '\n",
    "i = 'job, '\n",
    "j = 'Spot'\n",
    "h + i + j"
   ]
  },
  {
   "cell_type": "code",
   "execution_count": null,
   "id": "3e193292",
   "metadata": {},
   "outputs": [],
   "source": [
    "h * 100"
   ]
  },
  {
   "cell_type": "code",
   "execution_count": null,
   "id": "2162389c",
   "metadata": {},
   "outputs": [],
   "source": []
  }
 ],
 "metadata": {
  "kernelspec": {
   "display_name": "Python 3 (ipykernel)",
   "language": "python",
   "name": "python3"
  },
  "language_info": {
   "codemirror_mode": {
    "name": "ipython",
    "version": 3
   },
   "file_extension": ".py",
   "mimetype": "text/x-python",
   "name": "python",
   "nbconvert_exporter": "python",
   "pygments_lexer": "ipython3",
   "version": "3.10.9"
  }
 },
 "nbformat": 4,
 "nbformat_minor": 5
}
