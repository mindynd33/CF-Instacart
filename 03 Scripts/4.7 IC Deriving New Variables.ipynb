{
 "cells": [
  {
   "cell_type": "markdown",
   "id": "d15b7df3",
   "metadata": {},
   "source": [
    "# 01. Import libraries"
   ]
  },
  {
   "cell_type": "code",
   "execution_count": 1,
   "id": "41852148",
   "metadata": {},
   "outputs": [],
   "source": [
    "# Import libraries\n",
    "import pandas as pd\n",
    "import numpy as np\n",
    "import os"
   ]
  },
  {
   "cell_type": "code",
   "execution_count": 2,
   "id": "c27b5d0a",
   "metadata": {},
   "outputs": [],
   "source": [
    "# Create path shortcut\n",
    "path = r'/Users/mindydong/Documents/School/Data Analyst/Achievement 4/04-2023 Instacart Basket Analysis'"
   ]
  },
  {
   "cell_type": "code",
   "execution_count": 3,
   "id": "37eaf593",
   "metadata": {},
   "outputs": [],
   "source": [
    "# Import orders_products_merged.pkl\n",
    "df_ords_prods_merged = pd.read_pickle(os.path.join(path,'02 Data', 'Prepared Data', 'orders_products_merged.pkl'))"
   ]
  },
  {
   "cell_type": "markdown",
   "id": "9b0dbf52",
   "metadata": {},
   "source": [
    "# Task 4.7"
   ]
  },
  {
   "cell_type": "markdown",
   "id": "96c5a8a2",
   "metadata": {},
   "source": [
    "## Question 1"
   ]
  },
  {
   "cell_type": "code",
   "execution_count": 4,
   "id": "57d6913d",
   "metadata": {},
   "outputs": [
    {
     "data": {
      "text/plain": [
       "0    6209632\n",
       "1    5665830\n",
       "6    4500246\n",
       "2    4217766\n",
       "5    4209449\n",
       "3    3844096\n",
       "4    3787193\n",
       "Name: orders_day_of_week, dtype: int64"
      ]
     },
     "execution_count": 4,
     "metadata": {},
     "output_type": "execute_result"
    }
   ],
   "source": [
    "#checking frequency of orders_day_of_week\n",
    "df_ords_prods_merged ['orders_day_of_week'].value_counts(dropna = False)"
   ]
  },
  {
   "cell_type": "code",
   "execution_count": 5,
   "id": "5934496c",
   "metadata": {},
   "outputs": [],
   "source": [
    "# create busiest day column\n",
    "result = []\n",
    "\n",
    "for value in df_ords_prods_merged [\"orders_day_of_week\"]:\n",
    "    if value == 0:\n",
    "        result.append(\"Busiest day\")\n",
    "    elif value == 4:\n",
    "        result.append(\"Least busy\")\n",
    "    else:\n",
    "        result.append (\"Regularly busy\")\n",
    "        "
   ]
  },
  {
   "cell_type": "code",
   "execution_count": 6,
   "id": "3cdba234",
   "metadata": {},
   "outputs": [],
   "source": [
    "# create busiest day column within df_ords_prods_merged\n",
    "df_ords_prods_merged['busiest_day'] = result"
   ]
  },
  {
   "cell_type": "code",
   "execution_count": 7,
   "id": "abae3684",
   "metadata": {},
   "outputs": [
    {
     "data": {
      "text/plain": [
       "Regularly busy    22437387\n",
       "Busiest day        6209632\n",
       "Least busy         3787193\n",
       "Name: busiest_day, dtype: int64"
      ]
     },
     "execution_count": 7,
     "metadata": {},
     "output_type": "execute_result"
    }
   ],
   "source": [
    "# check frequency of busiest days\n",
    "df_ords_prods_merged['busiest_day'].value_counts(dropna = False)"
   ]
  },
  {
   "cell_type": "markdown",
   "id": "3b9ad0db",
   "metadata": {},
   "source": [
    "## Question 2"
   ]
  },
  {
   "cell_type": "code",
   "execution_count": 8,
   "id": "8fd6ac38",
   "metadata": {},
   "outputs": [],
   "source": [
    "# create busiest and leasst busiest days column\n",
    "result = []\n",
    "\n",
    "for value in df_ords_prods_merged [\"orders_day_of_week\"]:\n",
    "    if value <= 1:\n",
    "        result.append(\"Busiest days\")\n",
    "    elif value == 3 or value == 4:\n",
    "        result.append(\"Least busy days\")\n",
    "    else:\n",
    "        result.append (\"Regularly busy\")"
   ]
  },
  {
   "cell_type": "code",
   "execution_count": 9,
   "id": "c6cc0737",
   "metadata": {},
   "outputs": [],
   "source": [
    "# create busiest day column within df_ords_prods_merged\n",
    "df_ords_prods_merged['busiest_days'] = result"
   ]
  },
  {
   "cell_type": "code",
   "execution_count": 10,
   "id": "cb44ad29",
   "metadata": {},
   "outputs": [
    {
     "data": {
      "text/plain": [
       "Regularly busy     12927461\n",
       "Busiest days       11875462\n",
       "Least busy days     7631289\n",
       "Name: busiest_days, dtype: int64"
      ]
     },
     "execution_count": 10,
     "metadata": {},
     "output_type": "execute_result"
    }
   ],
   "source": [
    "# check frequency of busiest days\n",
    "df_ords_prods_merged['busiest_days'].value_counts(dropna = False)"
   ]
  },
  {
   "cell_type": "markdown",
   "id": "a4a3305d",
   "metadata": {},
   "source": [
    "## Question 3"
   ]
  },
  {
   "cell_type": "markdown",
   "id": "1d0bc4ba",
   "metadata": {},
   "source": [
    "The math adds up for the busiest days and least busy days columns. "
   ]
  },
  {
   "cell_type": "markdown",
   "id": "27e5a5d3",
   "metadata": {},
   "source": [
    "## Question 4"
   ]
  },
  {
   "cell_type": "code",
   "execution_count": 11,
   "id": "69542b99",
   "metadata": {
    "scrolled": true
   },
   "outputs": [
    {
     "data": {
      "text/plain": [
       "10    2764390\n",
       "11    2738585\n",
       "14    2691563\n",
       "15    2664522\n",
       "13    2663272\n",
       "12    2620800\n",
       "16    2537469\n",
       "9     2456661\n",
       "17    2089452\n",
       "8     1719952\n",
       "18    1637922\n",
       "19    1259382\n",
       "20     977017\n",
       "7      891928\n",
       "21     796362\n",
       "22     634737\n",
       "23     402612\n",
       "6      290770\n",
       "0      218942\n",
       "1      115786\n",
       "5       88057\n",
       "2       69431\n",
       "4       53283\n",
       "3       51317\n",
       "Name: order_hour_of_day, dtype: int64"
      ]
     },
     "execution_count": 11,
     "metadata": {},
     "output_type": "execute_result"
    }
   ],
   "source": [
    "#checking frequency of order_hour_of_day\n",
    "df_ords_prods_merged ['order_hour_of_day'].value_counts(dropna = False)"
   ]
  },
  {
   "cell_type": "code",
   "execution_count": 12,
   "id": "0296c811",
   "metadata": {},
   "outputs": [],
   "source": [
    "#create for-loop for hours of day\n",
    "hours = []\n",
    "\n",
    "for hour in df_ords_prods_merged['order_hour_of_day']:\n",
    "  if hour in [10, 11, 14, 15, 13, 12, 16, 9]:\n",
    "    hours.append('Most orders')\n",
    "  elif hour in [23, 6, 0, 1, 5, 2, 4, 3]:\n",
    "    hours.append('Fewest orders')\n",
    "  else:\n",
    "    hours.append('Average orders')"
   ]
  },
  {
   "cell_type": "code",
   "execution_count": 13,
   "id": "167c8ef0",
   "metadata": {},
   "outputs": [],
   "source": [
    "#create busiest period of day column within df_ords_prods_merged\n",
    "df_ords_prods_merged['busiest_period_of_day'] = hours"
   ]
  },
  {
   "cell_type": "code",
   "execution_count": 14,
   "id": "b3cd33f1",
   "metadata": {},
   "outputs": [
    {
     "data": {
      "text/plain": [
       "Most orders       21137262\n",
       "Average orders    10006752\n",
       "Fewest orders      1290198\n",
       "Name: busiest_period_of_day, dtype: int64"
      ]
     },
     "execution_count": 14,
     "metadata": {},
     "output_type": "execute_result"
    }
   ],
   "source": [
    "#check frequency of busiest period\n",
    "df_ords_prods_merged['busiest_period_of_day'].value_counts(dropna = False)"
   ]
  },
  {
   "cell_type": "code",
   "execution_count": 15,
   "id": "00cfe4d6",
   "metadata": {},
   "outputs": [],
   "source": [
    "# export to pickle\n",
    "df_ords_prods_merged.to_pickle(os.path.join(path, '02 Data','Prepared Data', 'orders_products_combined_2.pkl'))"
   ]
  },
  {
   "cell_type": "code",
   "execution_count": null,
   "id": "cd17df9a",
   "metadata": {},
   "outputs": [],
   "source": []
  }
 ],
 "metadata": {
  "kernelspec": {
   "display_name": "Python 3 (ipykernel)",
   "language": "python",
   "name": "python3"
  },
  "language_info": {
   "codemirror_mode": {
    "name": "ipython",
    "version": 3
   },
   "file_extension": ".py",
   "mimetype": "text/x-python",
   "name": "python",
   "nbconvert_exporter": "python",
   "pygments_lexer": "ipython3",
   "version": "3.10.9"
  }
 },
 "nbformat": 4,
 "nbformat_minor": 5
}
