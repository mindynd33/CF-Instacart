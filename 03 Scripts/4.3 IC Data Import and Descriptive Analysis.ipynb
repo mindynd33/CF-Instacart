{
 "cells": [
  {
   "cell_type": "markdown",
   "id": "048c281b",
   "metadata": {},
   "source": [
    "# 01. Importing libraries"
   ]
  },
  {
   "cell_type": "code",
   "execution_count": null,
   "id": "2a13a19f",
   "metadata": {},
   "outputs": [],
   "source": [
    "# Import libraries\n",
    "import pandas as pd\n",
    "import numpy as np\n",
    "import os"
   ]
  },
  {
   "cell_type": "markdown",
   "id": "02f21a94",
   "metadata": {},
   "source": [
    "# 02. Import orders.csv"
   ]
  },
  {
   "cell_type": "code",
   "execution_count": null,
   "id": "671bdb0f",
   "metadata": {},
   "outputs": [],
   "source": [
    "# Create path shortcut\n",
    "path = r'/Users/mindydong/Documents/School/Data Analyst/Achievement 4/04-2023 Instacart Basket Analysis'"
   ]
  },
  {
   "cell_type": "code",
   "execution_count": null,
   "id": "a2dd1c2f",
   "metadata": {},
   "outputs": [],
   "source": [
    "# Import data without eval_set column\n",
    "vars_list = ['order_id', 'user_id', 'order_number', 'order_dow', 'order_hour_of_day', 'days_since_prior_order']\n",
    "df = pd.read_csv(os.path.join(path, '02 Data', 'Original Data', 'orders.csv'), usecols = vars_list)"
   ]
  },
  {
   "cell_type": "code",
   "execution_count": null,
   "id": "49a10021",
   "metadata": {},
   "outputs": [],
   "source": [
    "# Show top 5 rows of orders\n",
    "df.head()"
   ]
  },
  {
   "cell_type": "markdown",
   "id": "afdf7b0e",
   "metadata": {},
   "source": [
    "# 03. Import products.csv"
   ]
  },
  {
   "cell_type": "code",
   "execution_count": null,
   "id": "bc8379e3",
   "metadata": {},
   "outputs": [],
   "source": [
    "# Import product.csv\n",
    "df_prods = pd.read_csv(os.path.join(path, '02 Data', 'Original Data', 'products.csv'), index_col= False)"
   ]
  },
  {
   "cell_type": "markdown",
   "id": "e93353b4",
   "metadata": {},
   "source": [
    "# 04. Product Dataframe Summaries"
   ]
  },
  {
   "cell_type": "code",
   "execution_count": null,
   "id": "d6b45759",
   "metadata": {},
   "outputs": [],
   "source": [
    "# Show top 20 rows of product dataframe\n",
    "df_prods.head(20)"
   ]
  },
  {
   "cell_type": "code",
   "execution_count": null,
   "id": "a06079ba",
   "metadata": {},
   "outputs": [],
   "source": [
    "# Show bottom 35 rows of product dataframe\n",
    "df_prods.tail(35)"
   ]
  },
  {
   "cell_type": "code",
   "execution_count": null,
   "id": "78d5df91",
   "metadata": {},
   "outputs": [],
   "source": [
    "# Coulmn names in product dataframe\n",
    "df_prods.columns"
   ]
  },
  {
   "cell_type": "code",
   "execution_count": null,
   "id": "08f563dd",
   "metadata": {},
   "outputs": [],
   "source": [
    "# Number of rows and columns in product dataframe\n",
    "df_prods.shape"
   ]
  },
  {
   "cell_type": "code",
   "execution_count": null,
   "id": "c42fd6ac",
   "metadata": {},
   "outputs": [],
   "source": [
    "# Descriptive stats for product dataframe\n",
    "df_prods.describe()"
   ]
  },
  {
   "cell_type": "markdown",
   "id": "d2e5b5b0",
   "metadata": {},
   "source": [
    "11a answer. Max value of aile_id coulmn: 134"
   ]
  },
  {
   "cell_type": "code",
   "execution_count": null,
   "id": "854af244",
   "metadata": {},
   "outputs": [],
   "source": [
    "# Data types for product dataframe\n",
    "df_prods.dtypes"
   ]
  },
  {
   "cell_type": "markdown",
   "id": "d7ee76b3",
   "metadata": {},
   "source": [
    "11b answer. Data type for department_id column is integer"
   ]
  },
  {
   "cell_type": "code",
   "execution_count": null,
   "id": "639bbda3",
   "metadata": {},
   "outputs": [],
   "source": [
    "df_ords.shape"
   ]
  },
  {
   "cell_type": "code",
   "execution_count": null,
   "id": "465428aa",
   "metadata": {},
   "outputs": [],
   "source": []
  }
 ],
 "metadata": {
  "kernelspec": {
   "display_name": "Python 3 (ipykernel)",
   "language": "python",
   "name": "python3"
  },
  "language_info": {
   "codemirror_mode": {
    "name": "ipython",
    "version": 3
   },
   "file_extension": ".py",
   "mimetype": "text/x-python",
   "name": "python",
   "nbconvert_exporter": "python",
   "pygments_lexer": "ipython3",
   "version": "3.10.9"
  }
 },
 "nbformat": 4,
 "nbformat_minor": 5
}
